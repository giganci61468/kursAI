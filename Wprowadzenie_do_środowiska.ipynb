{
  "nbformat": 4,
  "nbformat_minor": 0,
  "metadata": {
    "colab": {
      "provenance": [],
      "toc_visible": true,
      "authorship_tag": "ABX9TyMXZVwluGcDW9A9t58SjJ0k",
      "include_colab_link": true
    },
    "kernelspec": {
      "name": "python3",
      "display_name": "Python 3"
    },
    "language_info": {
      "name": "python"
    }
  },
  "cells": [
    {
      "cell_type": "markdown",
      "metadata": {
        "id": "view-in-github",
        "colab_type": "text"
      },
      "source": [
        "<a href=\"https://colab.research.google.com/github/giganci61468/kursAI/blob/main/Wprowadzenie_do_%C5%9Brodowiska.ipynb\" target=\"_parent\"><img src=\"https://colab.research.google.com/assets/colab-badge.svg\" alt=\"Open In Colab\"/></a>"
      ]
    },
    {
      "cell_type": "markdown",
      "source": [
        "# Podstawowe elementy języka python\n",
        "W tym rozdzialem przedstawimy podstawowe elementy składni języka python.\n",
        "\n",
        "\n",
        "1.   Zmienne\n",
        "2.   Listy\n",
        "3.   Pętle\n",
        "4.   Słowniki i krotki\n",
        "5.   Instrukcje warunkowe\n",
        "6.   Funkcje\n",
        "7.   Obsługa plików\n",
        "8.   Obsługa wyjątków\n",
        "\n"
      ],
      "metadata": {
        "id": "REuZBKLYYJ02"
      }
    },
    {
      "cell_type": "code",
      "execution_count": 38,
      "metadata": {
        "colab": {
          "base_uri": "https://localhost:8080/"
        },
        "id": "_tqlPH_uUzUR",
        "outputId": "8539d58d-b88f-4009-db44-58c38bddf276"
      },
      "outputs": [
        {
          "output_type": "stream",
          "name": "stdout",
          "text": [
            "Reinitialized existing Git repository in /content/.git/\n"
          ]
        }
      ],
      "source": [
        "!git init\n",
        "!git config --global user.name \"giganci61468\"\n",
        "!git  config --global user.email \"giganci61468@gmail.com\""
      ]
    },
    {
      "cell_type": "code",
      "source": [
        "!git add ."
      ],
      "metadata": {
        "id": "295tzJdDbGOJ"
      },
      "execution_count": 39,
      "outputs": []
    },
    {
      "cell_type": "code",
      "source": [
        "!git commit -m \"inicjalizacja projektu\""
      ],
      "metadata": {
        "colab": {
          "base_uri": "https://localhost:8080/"
        },
        "id": "X7KLfM52bMGU",
        "outputId": "d5746789-c7f3-4a00-bd3b-efdbc056f73b"
      },
      "execution_count": 40,
      "outputs": [
        {
          "output_type": "stream",
          "name": "stdout",
          "text": [
            "On branch main\n",
            "Your branch is up to date with 'origin/main'.\n",
            "\n",
            "nothing to commit, working tree clean\n"
          ]
        }
      ]
    },
    {
      "cell_type": "code",
      "source": [
        "!git branch -M main"
      ],
      "metadata": {
        "id": "8bY_V907bRoc"
      },
      "execution_count": 41,
      "outputs": []
    },
    {
      "cell_type": "code",
      "source": [
        "!git remote add origin https://<token>@github.com/giganci61468/kursAI.git"
      ],
      "metadata": {
        "id": "blrPc1G4bYV_",
        "outputId": "70c762d8-c7bf-43c5-82ea-8ac3ab534e3c",
        "colab": {
          "base_uri": "https://localhost:8080/"
        }
      },
      "execution_count": 42,
      "outputs": [
        {
          "output_type": "stream",
          "name": "stdout",
          "text": [
            "/bin/bash: line 1: token: No such file or directory\n"
          ]
        }
      ]
    },
    {
      "cell_type": "code",
      "source": [
        "!git push -u origin main"
      ],
      "metadata": {
        "colab": {
          "base_uri": "https://localhost:8080/"
        },
        "id": "w60PWlvSbxro",
        "outputId": "79ebb8cc-6d47-4c91-ec6b-615c19de11ee"
      },
      "execution_count": 43,
      "outputs": [
        {
          "output_type": "stream",
          "name": "stdout",
          "text": [
            "Branch 'main' set up to track remote branch 'main' from 'origin'.\n",
            "Everything up-to-date\n"
          ]
        }
      ]
    },
    {
      "cell_type": "code",
      "source": [
        "!git pull origin main"
      ],
      "metadata": {
        "colab": {
          "base_uri": "https://localhost:8080/"
        },
        "id": "6QrGWJTScp7z",
        "outputId": "dc90eeaf-c542-4f60-fefa-ada1798f1a76"
      },
      "execution_count": 44,
      "outputs": [
        {
          "output_type": "stream",
          "name": "stdout",
          "text": [
            "From https://github.com/giganci61468/kursAI\n",
            " * branch            main       -> FETCH_HEAD\n",
            "Already up to date.\n"
          ]
        }
      ]
    },
    {
      "cell_type": "markdown",
      "source": [
        "# Zmienne"
      ],
      "metadata": {
        "id": "zwappv-nc9yA"
      }
    },
    {
      "cell_type": "code",
      "source": [
        "liczba = 6\n",
        "zmiennoprzecinkowa = 8.9\n",
        "napis = \"tekst\"\n",
        "logiczna = False\n",
        "znak = 'a'"
      ],
      "metadata": {
        "id": "NlLPuECodJk4"
      },
      "execution_count": 45,
      "outputs": []
    },
    {
      "cell_type": "code",
      "source": [
        "print(\"test\")\n",
        "print(liczba)\n",
        "print(f\"liczba: {liczba}, liczba zmiennoprzecinkowa: {zmiennoprzecinkowa}, napis: {napis}\")"
      ],
      "metadata": {
        "colab": {
          "base_uri": "https://localhost:8080/"
        },
        "id": "Y5aWihmPe45N",
        "outputId": "c2d84189-abaa-4103-83d8-7551aebb1220"
      },
      "execution_count": 46,
      "outputs": [
        {
          "output_type": "stream",
          "name": "stdout",
          "text": [
            "test\n",
            "6\n",
            "liczba: 6, liczba zmiennoprzecinkowa: 8.9, napis: tekst\n"
          ]
        }
      ]
    },
    {
      "cell_type": "code",
      "source": [
        "print(f\"Zmienna liczba jest typu {type(liczba)}\")"
      ],
      "metadata": {
        "colab": {
          "base_uri": "https://localhost:8080/"
        },
        "id": "Aj3Ilb1EfYtt",
        "outputId": "d8eb7b1d-7b3f-40df-a306-3f15cdb5a474"
      },
      "execution_count": 47,
      "outputs": [
        {
          "output_type": "stream",
          "name": "stdout",
          "text": [
            "Zmienna liczba jest typu <class 'int'>\n"
          ]
        }
      ]
    },
    {
      "cell_type": "markdown",
      "source": [
        "# Listy"
      ],
      "metadata": {
        "id": "z2fGofzBgi8E"
      }
    },
    {
      "cell_type": "code",
      "source": [
        "gry = [\"fortnite\", \"minecraft\", \"roblox\"]\n",
        "print(gry[0])\n",
        "print(gry[2])\n",
        "print(gry)\n",
        "\n",
        "gry.append(\"cs\")\n",
        "print(gry)\n",
        "\n",
        "gry.append(1)\n",
        "print(gry)"
      ],
      "metadata": {
        "colab": {
          "base_uri": "https://localhost:8080/"
        },
        "id": "CGFFSrDvgmXL",
        "outputId": "3ac83220-24a0-457d-8d55-b5e29daed7c1"
      },
      "execution_count": 57,
      "outputs": [
        {
          "output_type": "stream",
          "name": "stdout",
          "text": [
            "fortnite\n",
            "roblox\n",
            "['fortnite', 'minecraft', 'roblox']\n",
            "['fortnite', 'minecraft', 'roblox', 'cs']\n",
            "['fortnite', 'minecraft', 'roblox', 'cs', 1]\n"
          ]
        }
      ]
    },
    {
      "cell_type": "markdown",
      "source": [
        "# Pętle"
      ],
      "metadata": {
        "id": "bTjMQ8m8hdig"
      }
    },
    {
      "cell_type": "code",
      "source": [
        "#pętla while\n",
        "i = 0\n",
        "print(\"Pętla while licząca do 5\")\n",
        "while i <= 5:\n",
        "  print(i)\n",
        "  i += 1 # i = i + 1\n",
        "\n",
        "#pętla for\n",
        "print(\"Pętla for licząca do 5\")\n",
        "for i in range(6):\n",
        "  print(i)\n",
        "\n",
        "print(\"Pętla for licząca od 5 do 10\")\n",
        "for i in range(5,11):\n",
        "  print(i)\n",
        "\n",
        "print(\"Pętla for licząca do 10, tylko liczby parzyste\")\n",
        "for i in range(0,11,2):\n",
        "  print(i)\n",
        "\n",
        "print(\"Pętla for przechodząca przez elementy listy gry\")\n",
        "for i in gry:\n",
        "  print(i)"
      ],
      "metadata": {
        "colab": {
          "base_uri": "https://localhost:8080/"
        },
        "id": "abqB2idchKGy",
        "outputId": "14c2e9c2-3a30-4013-a1dc-7e92d812bd92"
      },
      "execution_count": 62,
      "outputs": [
        {
          "output_type": "stream",
          "name": "stdout",
          "text": [
            "Pętla while licząca do 5\n",
            "0\n",
            "1\n",
            "2\n",
            "3\n",
            "4\n",
            "5\n",
            "Pętla for licząca do 5\n",
            "0\n",
            "1\n",
            "2\n",
            "3\n",
            "4\n",
            "5\n",
            "Pętla for licząca od 5 do 10\n",
            "5\n",
            "6\n",
            "7\n",
            "8\n",
            "9\n",
            "10\n",
            "Pętla for licząca do 10, tylko liczby parzyste\n",
            "0\n",
            "2\n",
            "4\n",
            "6\n",
            "8\n",
            "10\n",
            "Pętla for przechodząca przez elementy listy gry\n",
            "fortnite\n",
            "minecraft\n",
            "roblox\n",
            "cs\n",
            "1\n"
          ]
        }
      ]
    },
    {
      "cell_type": "markdown",
      "source": [
        "# Słowniki"
      ],
      "metadata": {
        "id": "_k5yKBJMi9q_"
      }
    },
    {
      "cell_type": "code",
      "source": [
        "slownik = {\n",
        "    \"kot\":\"cat\",\n",
        "    \"pies\" : 2,\n",
        "    3 : \"dog\"\n",
        "}\n",
        "\n",
        "print(slownik[\"kot\"])\n",
        "print(\"Klucze słownika\")\n",
        "for key in slownik.keys():\n",
        "  print(key)\n",
        "\n",
        "print(\"Wartości słownika\")\n",
        "for value in slownik.values():\n",
        "  print(value)"
      ],
      "metadata": {
        "colab": {
          "base_uri": "https://localhost:8080/"
        },
        "id": "j79bMFIBjADN",
        "outputId": "e0e3d070-21fa-4cc6-917d-ca918da027ca"
      },
      "execution_count": 67,
      "outputs": [
        {
          "output_type": "stream",
          "name": "stdout",
          "text": [
            "cat\n",
            "Klucze słownika\n",
            "kot\n",
            "pies\n",
            "3\n",
            "Wartości słownika\n",
            "cat\n",
            "2\n",
            "dog\n"
          ]
        }
      ]
    },
    {
      "cell_type": "code",
      "source": [
        "print(\"Krotka\")\n",
        "wspolrzedne = (2,7)\n",
        "print(f\"Pierwsza wspolrzedna {wspolrzedne[0]}, druga wspolrzedna {wspolrzedne[1]}\")"
      ],
      "metadata": {
        "colab": {
          "base_uri": "https://localhost:8080/"
        },
        "id": "YiVgXa05j7AN",
        "outputId": "d895c233-a8a6-47fb-c489-228a3d522836"
      },
      "execution_count": 68,
      "outputs": [
        {
          "output_type": "stream",
          "name": "stdout",
          "text": [
            "Krotka\n",
            "Pierwsza wspolrzedna 2, druga wspolrzedna 7\n"
          ]
        }
      ]
    },
    {
      "cell_type": "markdown",
      "source": [
        "# Instrukcje warunkowe"
      ],
      "metadata": {
        "id": "QuYZan25kcBC"
      }
    },
    {
      "cell_type": "code",
      "source": [
        "temp = float(input(\"Podaj temperaturę: \"))\n",
        "\n",
        "if temp < 20:\n",
        "  print(\"Podwyższam temperaturę\")\n",
        "elif temp >25: #else if\n",
        "  print(\"Obniżam temperaturę\")\n",
        "else:\n",
        "  print(\"Temperatura w normie\")\n"
      ],
      "metadata": {
        "colab": {
          "base_uri": "https://localhost:8080/"
        },
        "id": "7ErcHbOnkef0",
        "outputId": "524e1b88-f152-4c18-83d3-c94c98cf7442"
      },
      "execution_count": 73,
      "outputs": [
        {
          "output_type": "stream",
          "name": "stdout",
          "text": [
            "Podaj temperaturę: 22\n",
            "Temperatura w normie\n"
          ]
        }
      ]
    },
    {
      "cell_type": "markdown",
      "source": [
        "# Funkcje"
      ],
      "metadata": {
        "id": "GHEPJMawlfKw"
      }
    },
    {
      "cell_type": "code",
      "source": [
        "def dodwanie(a,b):\n",
        "  return a+b\n",
        "print(dodwanie(2,3))\n",
        "\n",
        "#funkcja z argumentem domyślnym\n",
        "def dodwanie(a,b = 5):\n",
        "  return a+b\n",
        "print(dodwanie(2,3))\n",
        "print(dodwanie(2))\n",
        "\n",
        "\n",
        "#Wywołanie funkcji z argumentem nazwanym\n",
        "def dodawaniex2(a,b):\n",
        "  return 2*a+b\n",
        "print(dodawaniex2(2,3))\n",
        "print(dodawaniex2(b = 2,a = 3))"
      ],
      "metadata": {
        "colab": {
          "base_uri": "https://localhost:8080/"
        },
        "id": "dWmH2ZtRliFJ",
        "outputId": "03ee8f9d-4534-43d5-8642-b87daf6057f2"
      },
      "execution_count": 79,
      "outputs": [
        {
          "output_type": "stream",
          "name": "stdout",
          "text": [
            "5\n",
            "5\n",
            "7\n",
            "7\n",
            "8\n"
          ]
        }
      ]
    },
    {
      "cell_type": "markdown",
      "source": [
        "# Obsługa plików"
      ],
      "metadata": {
        "id": "lOosdX-AmjF_"
      }
    },
    {
      "cell_type": "code",
      "source": [
        "#odczyt pliku\n",
        "with open('dane.txt', 'r') as file:\n",
        "  for line in file:\n",
        "    print(line)\n",
        "\n",
        "#dopisywanie\n",
        "with open('dane.txt','a') as file:\n",
        "  file.write('\\nPYTHON')\n",
        "\n",
        "# zapis do nowego pliku\n",
        "with open(\"dane2.txt\", 'w') as file:\n",
        "  file.write(\"Dane testowe\")"
      ],
      "metadata": {
        "colab": {
          "base_uri": "https://localhost:8080/"
        },
        "id": "tdBQg1gHmltV",
        "outputId": "a5e535b5-6cfb-4586-a394-3018c083a082"
      },
      "execution_count": 82,
      "outputs": [
        {
          "output_type": "stream",
          "name": "stdout",
          "text": [
            "minecraft\n",
            "\n",
            "cs\n",
            "\n",
            "GTA\n",
            "\n",
            "PYTHON\n"
          ]
        }
      ]
    },
    {
      "cell_type": "markdown",
      "source": [
        "# Obsługa wyjątków"
      ],
      "metadata": {
        "id": "4QF4toPwn537"
      }
    },
    {
      "cell_type": "code",
      "source": [
        "\n",
        "try:\n",
        "  dzielna = float(input(\"Podaj dzielną: \"))\n",
        "  dzielnik = float(input(\"Podaj dzielnik: \"))\n",
        "  wynik = dzielna/dzielnik\n",
        "except Exception as e:\n",
        "  print(f\"Błąd: {e}\")\n",
        "else:\n",
        "  print(f\"{dzielna}/{dzielnik} to {wynik}\")\n",
        "finally:\n",
        "  print(\"Koniec programu\")\n",
        "print(\"ciąg dalszy programu\")"
      ],
      "metadata": {
        "colab": {
          "base_uri": "https://localhost:8080/"
        },
        "id": "dHIZuMcon8jA",
        "outputId": "08561069-342d-481d-9abd-35ddfab4d5be"
      },
      "execution_count": 86,
      "outputs": [
        {
          "output_type": "stream",
          "name": "stdout",
          "text": [
            "Podaj dzielną: 12\n",
            "Podaj dzielnik: 0\n",
            "Błąd: float division by zero\n",
            "Koniec programu\n",
            "ciąg dalszy programu\n"
          ]
        }
      ]
    },
    {
      "cell_type": "code",
      "source": [
        "!git add .\n",
        "!git commit -m \"Dodano kod\"\n",
        "!git push origin main"
      ],
      "metadata": {
        "colab": {
          "base_uri": "https://localhost:8080/"
        },
        "id": "P7iWgB7Qo2DR",
        "outputId": "f3c3997d-d95c-47b1-8c00-83742a3c8b56"
      },
      "execution_count": 87,
      "outputs": [
        {
          "output_type": "stream",
          "name": "stdout",
          "text": [
            "[main 08fbf0f] Dodano kod\n",
            " 2 files changed, 6 insertions(+)\n",
            " create mode 100644 dane.txt\n",
            " create mode 100644 dane2.txt\n",
            "Enumerating objects: 5, done.\n",
            "Counting objects: 100% (5/5), done.\n",
            "Delta compression using up to 2 threads\n",
            "Compressing objects: 100% (2/2), done.\n",
            "Writing objects: 100% (4/4), 471 bytes | 471.00 KiB/s, done.\n",
            "Total 4 (delta 0), reused 0 (delta 0), pack-reused 0\n",
            "To https://github.com/giganci61468/kursAI.git\n",
            "   db59cae..08fbf0f  main -> main\n"
          ]
        }
      ]
    }
  ]
}